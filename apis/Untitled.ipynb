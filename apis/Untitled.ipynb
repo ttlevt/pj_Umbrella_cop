{
 "cells": [
  {
   "cell_type": "code",
   "execution_count": 12,
   "metadata": {},
   "outputs": [
    {
     "name": "stdout",
     "output_type": "stream",
     "text": [
      "2013.3.3\n",
      "2013.03.03\n"
     ]
    }
   ],
   "source": [
    "ymd= input()\n",
    "y= ymd.split('.')[0]\n",
    "m= ymd.split('.')[1]\n",
    "d=  ymd.split('.')[2]\n",
    "if (int(m) / 10) < 1:\n",
    "    m = '0'+m\n",
    "if (int(d) / 10) < 1:\n",
    "    d = '0'+d\n",
    "rst = y +'.'+ m+'.'+d\n",
    "print(rst)"
   ]
  },
  {
   "cell_type": "code",
   "execution_count": 2,
   "metadata": {},
   "outputs": [
    {
     "name": "stdout",
     "output_type": "stream",
     "text": [
      "2013.3.3\n",
      "2013\n",
      "3\n",
      "3\n"
     ]
    }
   ],
   "source": [
    "y,m,d = input().split('.')\n",
    "print(y)\n",
    "print(m)\n",
    "print(d)"
   ]
  },
  {
   "cell_type": "code",
   "execution_count": 3,
   "metadata": {},
   "outputs": [
    {
     "name": "stdout",
     "output_type": "stream",
     "text": [
      "2013.3.3\n",
      "20130303\n"
     ]
    }
   ],
   "source": [
    "y,m,d = input().split('.')\n",
    "m = m.zfill(2)\n",
    "d = d.zfill(2)\n",
    "print(y+m+d)"
   ]
  },
  {
   "cell_type": "code",
   "execution_count": 5,
   "metadata": {},
   "outputs": [
    {
     "name": "stdout",
     "output_type": "stream",
     "text": [
      "123123-1231234\n",
      "1231231231234\n"
     ]
    }
   ],
   "source": [
    "x,y = input().split('-')\n",
    "print (x+y)"
   ]
  },
  {
   "cell_type": "code",
   "execution_count": 10,
   "metadata": {},
   "outputs": [
    {
     "name": "stdout",
     "output_type": "stream",
     "text": [
      "1.00\n"
     ]
    }
   ],
   "source": [
    "a = 1\n",
    "b= round(a,2)\n",
    "print(\"%0.2f\" %b)\n"
   ]
  },
  {
   "cell_type": "code",
   "execution_count": 12,
   "metadata": {},
   "outputs": [
    {
     "name": "stdout",
     "output_type": "stream",
     "text": [
      "1.15135\n",
      "1\n",
      "15135\n"
     ]
    }
   ],
   "source": [
    "a,b = input().split('.')\n",
    "print(a)\n",
    "print(b)"
   ]
  },
  {
   "cell_type": "code",
   "execution_count": 15,
   "metadata": {},
   "outputs": [
    {
     "name": "stdout",
     "output_type": "stream",
     "text": [
      "\"B\"\n",
      "\"o\"\n",
      "\"y\"\n"
     ]
    }
   ],
   "source": [
    "a = 'Boy'\n",
    "for i in a:\n",
    "    print('\"{}\"'.format(i))"
   ]
  },
  {
   "cell_type": "code",
   "execution_count": 27,
   "metadata": {},
   "outputs": [
    {
     "name": "stdout",
     "output_type": "stream",
     "text": [
      "45656\n",
      "[40000]\n",
      "[5000]\n",
      "[600]\n",
      "[50]\n",
      "[6]\n"
     ]
    }
   ],
   "source": [
    "a = input()\n",
    "b = 10000\n",
    "li = []\n",
    "for i in a:\n",
    "    li.append(int(i)*b)\n",
    "    b/=10\n",
    "for i in li:\n",
    "    print('[%d]'%i)"
   ]
  },
  {
   "cell_type": "code",
   "execution_count": null,
   "metadata": {},
   "outputs": [],
   "source": []
  },
  {
   "cell_type": "code",
   "execution_count": null,
   "metadata": {},
   "outputs": [],
   "source": []
  },
  {
   "cell_type": "code",
   "execution_count": null,
   "metadata": {},
   "outputs": [],
   "source": []
  },
  {
   "cell_type": "code",
   "execution_count": null,
   "metadata": {},
   "outputs": [],
   "source": []
  },
  {
   "cell_type": "code",
   "execution_count": null,
   "metadata": {},
   "outputs": [],
   "source": []
  },
  {
   "cell_type": "code",
   "execution_count": null,
   "metadata": {},
   "outputs": [],
   "source": []
  },
  {
   "cell_type": "code",
   "execution_count": null,
   "metadata": {},
   "outputs": [],
   "source": []
  },
  {
   "cell_type": "code",
   "execution_count": null,
   "metadata": {},
   "outputs": [],
   "source": []
  },
  {
   "cell_type": "code",
   "execution_count": null,
   "metadata": {},
   "outputs": [],
   "source": []
  }
 ],
 "metadata": {
  "kernelspec": {
   "display_name": "Python 3",
   "language": "python",
   "name": "python3"
  },
  "language_info": {
   "codemirror_mode": {
    "name": "ipython",
    "version": 3
   },
   "file_extension": ".py",
   "mimetype": "text/x-python",
   "name": "python",
   "nbconvert_exporter": "python",
   "pygments_lexer": "ipython3",
   "version": "3.7.4"
  }
 },
 "nbformat": 4,
 "nbformat_minor": 2
}
